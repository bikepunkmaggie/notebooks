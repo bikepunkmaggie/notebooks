{
 "cells": [
  {
   "cell_type": "markdown",
   "id": "69d02f9c-53d7-46e9-8fd5-ac0bfa8d3696",
   "metadata": {},
   "source": [
    "# Classes\n",
    "## Overview\n",
    "Allow bundle data and functions.\n",
    "Based on C++ and Modula3\n",
    "Now object, allow ne instances\n",
    "\n",
    "### Instances\n",
    "*attributes*: for maintinag state<br>\n",
    "*methonds*: to modify state\n",
    "\n",
    "## Standard Features\n",
    "- Inheritance\n",
    "  - Allow multiple base classes\n",
    "- Derived override base classes\n",
    "- Method can call method of base with same name\n",
    "  \n",
    "## C++ similar\n",
    "- Members are public\n",
    "- Member functions are virtual\n",
    "- Buitins can be redefined\n",
    "\n",
    "# References\n",
    "[Classes from Python.org](https://docs.python.org/3/tutorial/classes.html#)\n",
    "***\n",
    "<div class=\"alert alert-block alert-info\">\n",
    "<b>Tip:</b> Use blue boxes (alert-info) for tips and notes. \n",
    "If it’s a note, you don’t have to include the word “Note”.\n",
    "</div>\n",
    "\n",
    "<div class=\"alert alert-block alert-warning\">\n",
    "<b>Example:</b> Use yellow boxes for examples that are not \n",
    "inside code cells, or use for mathematical formulas if needed.\n",
    "</div>\n",
    "\n",
    "<div class=\"alert alert-block alert-success\">\n",
    "<b>Up to you:</b> Use green boxes sparingly, and only for some specific \n",
    "purpose that the other boxes can't cover. For example, if you have a lot \n",
    "of related content to link to, maybe you decide to use green boxes for \n",
    "related links from each section of a notebook.\n",
    "</div>\n",
    "\n",
    "<div class=\"alert alert-block alert-danger\">\n",
    "<b>Just don't:</b> In general, avoid the red boxes. These should only be\n",
    "used for actions that might cause data loss or another major issue.\n",
    "</div>\n",
    "\n",
    "[Back To TOp](#Standard-Features)"
   ]
  },
  {
   "cell_type": "markdown",
   "id": "2c9f3ab8-c759-49ae-9751-b27adcd1d4e0",
   "metadata": {},
   "source": [
    "## Scope and Namespaces Example\n",
    "From python.org, shows how global and nolocal binding."
   ]
  },
  {
   "cell_type": "code",
   "execution_count": 2,
   "id": "47736bd1-bb1f-48ef-a84c-d780b1f8496f",
   "metadata": {},
   "outputs": [
    {
     "name": "stdout",
     "output_type": "stream",
     "text": [
      "After local assignment: test\n",
      "After nonlocal assignment: nonlocal\n",
      "After global assignment: nonlocal\n",
      "In global scope: global\n"
     ]
    }
   ],
   "source": [
    "\n",
    "def scope_test():\n",
    "    def do_local():\n",
    "        spam = \"local\"\n",
    "\n",
    "    def do_nonlocal():\n",
    "        nonlocal spam\n",
    "        spam = \"nonlocal\"\n",
    "\n",
    "    def do_global():\n",
    "        global spam\n",
    "        spam = \"global\"\n",
    "    \n",
    "    spam = \"test\"\n",
    "    do_local()\n",
    "    print(\"After local assignment:\", spam)\n",
    "    do_nonlocal()\n",
    "    print(\"After nonlocal assignment:\", spam)\n",
    "    do_global()\n",
    "    print(\"After global assignment:\", spam)\n",
    "\n",
    "scope_test()\n",
    "print(\"In global scope:\", spam)"
   ]
  },
  {
   "cell_type": "code",
   "execution_count": null,
   "id": "a4a69e99-d72e-49cd-a871-7626fce97aa1",
   "metadata": {},
   "outputs": [],
   "source": []
  },
  {
   "cell_type": "code",
   "execution_count": null,
   "id": "60e3668f-b69e-4fac-a32d-3db2a19df07e",
   "metadata": {},
   "outputs": [],
   "source": []
  }
 ],
 "metadata": {
  "kernelspec": {
   "display_name": "Python 3 (ipykernel)",
   "language": "python",
   "name": "python3"
  },
  "language_info": {
   "codemirror_mode": {
    "name": "ipython",
    "version": 3
   },
   "file_extension": ".py",
   "mimetype": "text/x-python",
   "name": "python",
   "nbconvert_exporter": "python",
   "pygments_lexer": "ipython3",
   "version": "3.11.5"
  }
 },
 "nbformat": 4,
 "nbformat_minor": 5
}
