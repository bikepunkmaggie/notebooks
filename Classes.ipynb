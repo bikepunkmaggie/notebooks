{
 "cells": [
  {
   "cell_type": "markdown",
   "id": "2a16bee1-deef-46b2-971d-d67ce98ce18d",
   "metadata": {},
   "source": [
    "# Classes\n",
    "Operation-oriented programming paradigm throught classes.\n",
    "\n",
    "## Overview\n",
    "Allow bundle data and functions.\n",
    "Based on C++ and Modula3.\n",
    "Now object, allow new instances.\n",
    "\n",
    "### Instances\n",
    "*attributes*: for maintinag state.  Any name following a dot.<br>\n",
    "*methods*: to modify state\n",
    "\n",
    "## Standard Features\n",
    "- Inheritance\n",
    "  - Allow multiple base classes\n",
    "- Derived override base classes\n",
    "- Method can call method of base with same name\n",
    "  \n",
    "## C++ similar\n",
    "- Members are public\n",
    "- Member functions are virtual\n",
    "- Buitins can be redefined\n",
    "\n",
    "## References\n",
    "[Classes from Python.org](https://docs.python.org/3/tutorial/classes.html#)<br>\n",
    "[Classes from Real Python](https://realpython.com/python-classes/)\n",
    "\n",
    "[Back To Top](#Classes)"
   ]
  },
  {
   "cell_type": "markdown",
   "id": "aa3cb1b8-a5a1-4125-a48c-9676abc74ccb",
   "metadata": {},
   "source": [
    "## Scope and Namespaces Example\n",
    "From python.org, shows how global and nolocal binding."
   ]
  },
  {
   "cell_type": "code",
   "execution_count": null,
   "id": "0ded8497-023b-42d5-9d94-9ecb2ff16267",
   "metadata": {},
   "outputs": [],
   "source": [
    "\n",
    "def scope_test():\n",
    "    def do_local():\n",
    "        spam = \"local\"\n",
    "\n",
    "    def do_nonlocal():\n",
    "        nonlocal spam\n",
    "        spam = \"nonlocal\"\n",
    "\n",
    "    def do_global():\n",
    "        global spam\n",
    "        spam = \"global\"\n",
    "    \n",
    "    spam = \"test\"\n",
    "    do_local()\n",
    "    print(\"After local assignment:\", spam)\n",
    "    do_nonlocal()\n",
    "    print(\"After nonlocal assignment:\", spam)\n",
    "    do_global()\n",
    "    print(\"After global assignment:\", spam)\n",
    "\n",
    "scope_test()\n",
    "print(\"In global scope:\", spam)"
   ]
  },
  {
   "cell_type": "markdown",
   "id": "8e0beb63-a128-4a50-bbbc-5caf881f9692",
   "metadata": {},
   "source": [
    "## A First Look at Classes\n",
    "Must be executed before take effect.\n",
    "```Python\n",
    "class ClassName:\n",
    "    <statment-1>\n",
    "    .\n",
    "    .\n",
    "    .\n",
    "    <statment-N>\n",
    "```\n",
    "### Class Objects\n",
    "Class objets support:\n",
    "- attribute references (obj.name)\n",
    "```Python\n",
    "    class MyClass:\n",
    "        \"\"\"A simple example class\"\"\"\n",
    "        i = 12345\n",
    "\n",
    "        def f(self):\n",
    "            return 'hello world'\n",
    "```\n",
    "    - MyClass.i is valid reference.\n",
    "\n",
    "- Instaniation\n",
    "### Instance\n",
    "Object Instances support:\n",
    "- attribute references\n",
    "  * Data attributes\n",
    "  * Methods\n",
    "### Method\n",
    "\n",
    "### Class and Instance Variables"
   ]
  },
  {
   "cell_type": "code",
   "execution_count": null,
   "id": "b025e291-18b0-4658-917e-26aa3866dbdf",
   "metadata": {},
   "outputs": [],
   "source": []
  }
 ],
 "metadata": {
  "kernelspec": {
   "display_name": "Python 3 (ipykernel)",
   "language": "python",
   "name": "python3"
  },
  "language_info": {
   "codemirror_mode": {
    "name": "ipython",
    "version": 3
   },
   "file_extension": ".py",
   "mimetype": "text/x-python",
   "name": "python",
   "nbconvert_exporter": "python",
   "pygments_lexer": "ipython3",
   "version": "3.11.5"
  }
 },
 "nbformat": 4,
 "nbformat_minor": 5
}
